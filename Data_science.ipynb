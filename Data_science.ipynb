{
  "cells": [
    {
      "cell_type": "markdown",
      "metadata": {
        "id": "view-in-github",
        "colab_type": "text"
      },
      "source": [
        "<a href=\"https://colab.research.google.com/github/Shanth1234/Shanth1234/blob/main/Data_science.ipynb\" target=\"_parent\"><img src=\"https://colab.research.google.com/assets/colab-badge.svg\" alt=\"Open In Colab\"/></a>"
      ]
    },
    {
      "cell_type": "code",
      "execution_count": null,
      "metadata": {
        "colab": {
          "base_uri": "https://localhost:8080/"
        },
        "id": "9V-PC_yEct1O",
        "outputId": "08affd47-537e-4c0f-c6ad-4ab3e44928ad"
      },
      "outputs": [
        {
          "name": "stdout",
          "output_type": "stream",
          "text": [
            "/content\n"
          ]
        }
      ],
      "source": [
        "!pwd\n"
      ]
    },
    {
      "cell_type": "code",
      "execution_count": null,
      "metadata": {
        "id": "LmFKhQBvuOaZ"
      },
      "outputs": [],
      "source": [
        ""
      ]
    },
    {
      "cell_type": "code",
      "execution_count": null,
      "metadata": {
        "id": "BkmMrvr8uSP2"
      },
      "outputs": [],
      "source": [
        ""
      ]
    },
    {
      "cell_type": "code",
      "execution_count": null,
      "metadata": {
        "colab": {
          "base_uri": "https://localhost:8080/"
        },
        "id": "Ez7mdeDCazNf",
        "outputId": "a1c406b8-640d-46c2-c84c-4e5845684619"
      },
      "outputs": [
        {
          "name": "stdout",
          "output_type": "stream",
          "text": [
            "2\n"
          ]
        }
      ],
      "source": [
        "print(1+1)\n",
        "#BODMAS"
      ]
    },
    {
      "cell_type": "code",
      "execution_count": null,
      "metadata": {
        "colab": {
          "base_uri": "https://localhost:8080/"
        },
        "id": "7mn_FfSNa3MV",
        "outputId": "eb4f2bad-a74c-4cce-fa3e-19affee1eb7d"
      },
      "outputs": [
        {
          "name": "stdout",
          "output_type": "stream",
          "text": [
            "7\n"
          ]
        }
      ],
      "source": [
        "print(1+2*3)"
      ]
    },
    {
      "cell_type": "code",
      "execution_count": null,
      "metadata": {
        "colab": {
          "base_uri": "https://localhost:8080/"
        },
        "id": "LHKLtLADa-8A",
        "outputId": "f8bc9429-a1f4-4f68-917e-878864df0234"
      },
      "outputs": [
        {
          "name": "stdout",
          "output_type": "stream",
          "text": [
            "9\n"
          ]
        }
      ],
      "source": [
        "print((1+2)*3)"
      ]
    },
    {
      "cell_type": "code",
      "execution_count": null,
      "metadata": {
        "colab": {
          "base_uri": "https://localhost:8080/"
        },
        "id": "OqCEVAzabJWd",
        "outputId": "e27c3e8b-df61-4d61-8797-80ae42587af5"
      },
      "outputs": [
        {
          "name": "stdout",
          "output_type": "stream",
          "text": [
            "-39\n"
          ]
        }
      ],
      "source": [
        "print(4-40-3)"
      ]
    },
    {
      "cell_type": "code",
      "execution_count": null,
      "metadata": {
        "colab": {
          "base_uri": "https://localhost:8080/"
        },
        "id": "KN5a6_8xbPK3",
        "outputId": "e9a79d53-3e39-4049-8a88-e7db30b17342"
      },
      "outputs": [
        {
          "name": "stdout",
          "output_type": "stream",
          "text": [
            "-33\n"
          ]
        }
      ],
      "source": [
        "print(4-(40-3))"
      ]
    },
    {
      "cell_type": "code",
      "execution_count": null,
      "metadata": {
        "colab": {
          "base_uri": "https://localhost:8080/"
        },
        "id": "GyqsNqC_jFW7",
        "outputId": "032e73cd-5a1d-4bf3-b56e-c66ebd8203e1"
      },
      "outputs": [
        {
          "name": "stdout",
          "output_type": "stream",
          "text": [
            "Good Morning\n",
            "GoodMorningto you\n"
          ]
        }
      ],
      "source": [
        "World1 = \"Good\"\n",
        "World2 = \"Morning\"\n",
        "World3 = \"to you\"\n",
        "print(World1,World2)\n",
        "print(World1+World2+World3)\n"
      ]
    },
    {
      "cell_type": "code",
      "execution_count": null,
      "metadata": {
        "colab": {
          "background_save": true
        },
        "id": "2ndj0b06gXZ2",
        "outputId": "201427ae-a9d5-445d-eaa5-d8a22e0dacff"
      },
      "outputs": [
        {
          "name": "stdout",
          "output_type": "stream",
          "text": [
            "Go to rtpcr\n"
          ]
        }
      ],
      "source": [
        "Sym = input()\n",
        "tem = int(input())\n",
        "if Sym == \"fever\":\n",
        "  print(\"Go to rtpcr\")\n",
        "elif Sym == \"Cough\":\n",
        "  if tem > 102:\n",
        "    print(\"get hosp\")\n",
        "  else:\n",
        "   print(\"go to rrr\")\n",
        "else:\n",
        "  print(\"Go home\")\n",
        "\n",
        " "
      ]
    },
    {
      "cell_type": "code",
      "execution_count": null,
      "metadata": {
        "colab": {
          "base_uri": "https://localhost:8080/"
        },
        "id": "p4zutC3ZmHsL",
        "outputId": "2aac5ed3-c9f4-446d-eeb8-d4f2bba040dd"
      },
      "outputs": [
        {
          "name": "stdout",
          "output_type": "stream",
          "text": [
            "low\n",
            "36\n",
            "No\n",
            "go home\n"
          ]
        }
      ],
      "source": [
        "#1-- 3 input symptom, rtpcr(value),comobility\n",
        "#2 sym is high --- go rtcpr and get some medicine, go home\n",
        "#3 if rtpcr> 35 go to hospital and a Ct scan else (rtpcr <35)go self\n",
        "#4 in hospital if there is a cdise put them in ICU or put in general ward\n",
        "sym = input()\n",
        "rtpcr= int(input())\n",
        "Comobility = input()\n",
        "if sym == \"high\":\n",
        "  print(\"go to rtpcr and get some med\")\n",
        "  if rtpcr > 35:\n",
        "    print(\"go to hospital and ct scan\")\n",
        "    if Comobility == \"yes\":\n",
        "      print(\"put them in hospital\")\n",
        "    else:\n",
        "      print(\"put them gen ward\")\n",
        "  else:\n",
        "    print(\" go self\" )\n",
        "else:\n",
        "  print(\"go home\")\n",
        "\n",
        "\n"
      ]
    },
    {
      "cell_type": "code",
      "execution_count": null,
      "metadata": {
        "colab": {
          "base_uri": "https://localhost:8080/"
        },
        "id": "BbpyCaWbiMXP",
        "outputId": "ef9882e7-bfb8-410b-8365-581f4916bec3"
      },
      "outputs": [
        {
          "name": "stdout",
          "output_type": "stream",
          "text": [
            "1\n",
            "2\n",
            "3\n",
            "4\n",
            "5\n",
            "6\n",
            "7\n",
            "8\n",
            "9\n",
            "10\n"
          ]
        }
      ],
      "source": [
        "a= 0\n",
        "while a< 10:\n",
        "  a=a+1\n",
        "  print(a)  "
      ]
    },
    {
      "cell_type": "code",
      "execution_count": null,
      "metadata": {
        "id": "v8I8LCSWLDVb"
      },
      "outputs": [],
      "source": [
        "a= 0\n",
        "while a< 6:\n",
        "  a=a+1\n",
        "  if (a%2)==0:\n",
        "      print(a)\n",
        "  else:\n",
        "    break\n",
        " "
      ]
    },
    {
      "cell_type": "code",
      "execution_count": null,
      "metadata": {
        "colab": {
          "base_uri": "https://localhost:8080/"
        },
        "id": "Pzgbpy6iHu7T",
        "outputId": "d1da5cc8-7009-4c83-dc07-ccd955879ba1"
      },
      "outputs": [
        {
          "name": "stdout",
          "output_type": "stream",
          "text": [
            "1\n",
            "2\n"
          ]
        }
      ],
      "source": [
        "i = 1\n",
        "while i < 6:\n",
        "  print(i)\n",
        "  if i ==2:\n",
        "    break\n",
        "  i += 1\n",
        "\n"
      ]
    },
    {
      "cell_type": "code",
      "execution_count": null,
      "metadata": {
        "colab": {
          "base_uri": "https://localhost:8080/"
        },
        "id": "WRREypa5_Fhg",
        "outputId": "efe348ff-47f3-4c7d-c482-a07db3a9ba02"
      },
      "outputs": [
        {
          "name": "stdout",
          "output_type": "stream",
          "text": [
            "2\n",
            "5\n",
            "8\n",
            "11\n",
            "14\n",
            "17\n",
            "20\n",
            "23\n",
            "26\n",
            "29\n"
          ]
        }
      ],
      "source": [
        "for x in range (2,30,3):\n",
        "  print(x)"
      ]
    },
    {
      "cell_type": "code",
      "execution_count": null,
      "metadata": {
        "colab": {
          "base_uri": "https://localhost:8080/"
        },
        "id": "xrfT7wA9_kzr",
        "outputId": "f54f8347-ae49-460f-d767-76741169dd6d"
      },
      "outputs": [
        {
          "name": "stdout",
          "output_type": "stream",
          "text": [
            "enter lower1\n",
            "enter upper100\n",
            "2\n",
            "3\n",
            "5\n",
            "7\n",
            "11\n",
            "13\n",
            "17\n",
            "19\n",
            "23\n",
            "29\n",
            "31\n",
            "37\n",
            "41\n",
            "43\n",
            "47\n",
            "53\n",
            "59\n",
            "61\n",
            "67\n",
            "71\n",
            "73\n",
            "79\n",
            "83\n",
            "89\n",
            "97\n",
            "101\n"
          ]
        }
      ],
      "source": [
        "lower = int(input(\"enter lower\"))\n",
        "upper = int(input(\"enter upper\"))\n",
        "for num in range (lower+upper+1):\n",
        "  if num>1:\n",
        "    for i in range (2,num): \n",
        "     if (num%i)==0:\n",
        "       break\n",
        "       \n",
        "    else:\n",
        "      print(num)\n"
      ]
    },
    {
      "cell_type": "code",
      "execution_count": null,
      "metadata": {
        "colab": {
          "base_uri": "https://localhost:8080/"
        },
        "id": "Y97Hax5_DxeJ",
        "outputId": "eb154227-a322-419e-d635-1e8ef334cbba"
      },
      "outputs": [
        {
          "name": "stdout",
          "output_type": "stream",
          "text": [
            "g\n",
            "u\n",
            "v\n",
            "s\n",
            "p\n",
            "r\n",
            "t\n",
            "o\n",
            "n\n",
            "s\n"
          ]
        }
      ],
      "source": [
        "for x in 'guviaspirtaions':\n",
        "  if x == 'a' or x== 'i' or x=='e':\n",
        "    continue\n",
        "  print(x)"
      ]
    },
    {
      "cell_type": "code",
      "execution_count": null,
      "metadata": {
        "colab": {
          "base_uri": "https://localhost:8080/"
        },
        "id": "xDm8_xtWFny0",
        "outputId": "fedf0512-42cd-4497-e179-ad93ce1bd70d"
      },
      "outputs": [
        {
          "name": "stdout",
          "output_type": "stream",
          "text": [
            "5 is of type <class 'int'>\n"
          ]
        }
      ],
      "source": [
        "a = 5\n",
        "print(a,\"is of type\",type(a))"
      ]
    },
    {
      "cell_type": "code",
      "execution_count": null,
      "metadata": {
        "colab": {
          "base_uri": "https://localhost:8080/"
        },
        "id": "GfVfz0m0J6Aq",
        "outputId": "399bf931-72aa-4345-c17e-dc78f15e1bf6"
      },
      "outputs": [
        {
          "name": "stdout",
          "output_type": "stream",
          "text": [
            "5 is type <class 'float'>\n"
          ]
        }
      ],
      "source": [
        "b = 2.0\n",
        "print(a, \"is type\",type(b))"
      ]
    },
    {
      "cell_type": "code",
      "execution_count": null,
      "metadata": {
        "colab": {
          "base_uri": "https://localhost:8080/"
        },
        "id": "EnNWuzqAKKn_",
        "outputId": "297860bb-db05-4fb8-9501-4c162f3fa1b0"
      },
      "outputs": [
        {
          "name": "stdout",
          "output_type": "stream",
          "text": [
            "5 is complex nuber? True\n"
          ]
        }
      ],
      "source": [
        "c = 1+2j\n",
        "print(a,\"is complex nuber?\",isinstance(1+2j,complex))"
      ]
    },
    {
      "cell_type": "code",
      "execution_count": null,
      "metadata": {
        "colab": {
          "base_uri": "https://localhost:8080/"
        },
        "id": "6qh-vND3MhVK",
        "outputId": "2f5df46c-1b81-4a7e-e0a8-05a5d265523f"
      },
      "outputs": [
        {
          "name": "stdout",
          "output_type": "stream",
          "text": [
            "[5, 10, 12]\n",
            "[16, 14, 12, 10, 5]\n",
            "[5, 10, 4, 14, 16]\n"
          ]
        }
      ],
      "source": [
        "a = [5, 10, 12, 14, 16]\n",
        "print (a[0:3])\n",
        "print(a[::-1])\n",
        "a[2]= 4\n",
        "print(a)"
      ]
    },
    {
      "cell_type": "code",
      "execution_count": null,
      "metadata": {
        "colab": {
          "base_uri": "https://localhost:8080/"
        },
        "id": "2pcIz_cbOTYI",
        "outputId": "2d9edc68-f810-45cd-805e-3d5f097de37e"
      },
      "outputs": [
        {
          "name": "stdout",
          "output_type": "stream",
          "text": [
            "[1]\n"
          ]
        }
      ],
      "source": [
        "a = []\n",
        "a.append(1)\n",
        "print(a)"
      ]
    },
    {
      "cell_type": "code",
      "execution_count": null,
      "metadata": {
        "colab": {
          "base_uri": "https://localhost:8080/"
        },
        "id": "71ELwkCoPfag",
        "outputId": "8f138a71-a0c6-4d2e-a874-524d122b5036"
      },
      "outputs": [
        {
          "name": "stdout",
          "output_type": "stream",
          "text": [
            "[5, 10, 12, 'data', 14, 16]\n"
          ]
        }
      ],
      "source": [
        "a = [5, 10, 12, 14, 16]\n",
        "a.insert(3,'data')\n",
        "print(a)\n"
      ]
    },
    {
      "cell_type": "code",
      "execution_count": null,
      "metadata": {
        "colab": {
          "base_uri": "https://localhost:8080/"
        },
        "id": "zDzDXpIUQHZz",
        "outputId": "e6483341-5aa5-46d4-ee2b-e96abe5b0738"
      },
      "outputs": [
        {
          "name": "stdout",
          "output_type": "stream",
          "text": [
            "[5, 10, 12, 14, 16, 3, '99', '60']\n"
          ]
        }
      ],
      "source": [
        "b = [5, 10, 12, 14, 16]\n",
        "b.extend([3,'99','60'])\n",
        "print(b)"
      ]
    },
    {
      "cell_type": "code",
      "execution_count": null,
      "metadata": {
        "colab": {
          "base_uri": "https://localhost:8080/"
        },
        "id": "5wPUSnvjQoXI",
        "outputId": "1e602e79-527f-4619-8c4f-a1ac4fbb56aa"
      },
      "outputs": [
        {
          "name": "stdout",
          "output_type": "stream",
          "text": [
            "[]\n"
          ]
        }
      ],
      "source": [
        "b = [5, 10, 12, 14, 16]\n",
        "b.clear()\n",
        "print(b)"
      ]
    },
    {
      "cell_type": "code",
      "execution_count": null,
      "metadata": {
        "colab": {
          "base_uri": "https://localhost:8080/"
        },
        "id": "FyO-nrspQ7hS",
        "outputId": "25575117-97d8-4fc8-d41e-2aba23bd38ca"
      },
      "outputs": [
        {
          "name": "stdout",
          "output_type": "stream",
          "text": [
            "[5, 10, 12, 14, 16]\n"
          ]
        }
      ],
      "source": [
        "b = [5, 10, 12, 14, 16]\n",
        "b.copy()\n",
        "print(b)"
      ]
    },
    {
      "cell_type": "code",
      "execution_count": null,
      "metadata": {
        "colab": {
          "base_uri": "https://localhost:8080/"
        },
        "id": "sXk0a9iYREYf",
        "outputId": "c6caa2c5-dc4b-406a-96f2-4d13c1b523cc"
      },
      "outputs": [
        {
          "name": "stdout",
          "output_type": "stream",
          "text": [
            "[5, 10, 12, 14, 16]\n"
          ]
        }
      ],
      "source": [
        "b = [5, 10, 12, 14, 16]\n",
        "b.count(3)\n",
        "print(b)"
      ]
    },
    {
      "cell_type": "code",
      "execution_count": null,
      "metadata": {
        "colab": {
          "base_uri": "https://localhost:8080/"
        },
        "id": "YhfF1ZVIR3GY",
        "outputId": "7b1a6fa7-c5d6-47c6-984b-e39f1d7d209f"
      },
      "outputs": [
        {
          "name": "stdout",
          "output_type": "stream",
          "text": [
            "[5, 10, 12, 14, 16]\n"
          ]
        }
      ],
      "source": [
        "c = [5, 10, 12, 14, 16]\n",
        "c.index(10)\n",
        "print(c)"
      ]
    },
    {
      "cell_type": "code",
      "execution_count": null,
      "metadata": {
        "colab": {
          "base_uri": "https://localhost:8080/"
        },
        "id": "gOlbpXaTSV_F",
        "outputId": "d0314f2a-ea3a-495e-91e5-db488fb9bf61"
      },
      "outputs": [
        {
          "name": "stdout",
          "output_type": "stream",
          "text": [
            "[5, 12, 14, 16]\n"
          ]
        }
      ],
      "source": [
        "c = [5, 10, 12, 14, 16]\n",
        "c.remove(10)\n",
        "print(c)"
      ]
    },
    {
      "cell_type": "code",
      "execution_count": null,
      "metadata": {
        "colab": {
          "base_uri": "https://localhost:8080/"
        },
        "id": "yP_0Wc7GSi6i",
        "outputId": "e48ae5da-4fdc-4967-bacc-e6a22931e655"
      },
      "outputs": [
        {
          "name": "stdout",
          "output_type": "stream",
          "text": [
            "[16, 14, 12, 10, 5]\n"
          ]
        }
      ],
      "source": [
        "c = [5, 10, 12, 14, 16]\n",
        "c.reverse()\n",
        "print(c)"
      ]
    },
    {
      "cell_type": "code",
      "execution_count": null,
      "metadata": {
        "colab": {
          "base_uri": "https://localhost:8080/"
        },
        "id": "mEyv-RYfSs2F",
        "outputId": "166e5cd1-1b59-420d-fc25-71e0d7a22e22"
      },
      "outputs": [
        {
          "name": "stdout",
          "output_type": "stream",
          "text": [
            "[5, 10, 12, 14, 16]\n"
          ]
        }
      ],
      "source": [
        "c = [5, 10, 12, 14, 16]\n",
        "c.sort()\n",
        "print(c)"
      ]
    },
    {
      "cell_type": "code",
      "execution_count": null,
      "metadata": {
        "colab": {
          "base_uri": "https://localhost:8080/"
        },
        "id": "-GfnrBctTFdl",
        "outputId": "ac1f9799-4ac6-4d88-da3e-749bde230710"
      },
      "outputs": [
        {
          "name": "stdout",
          "output_type": "stream",
          "text": [
            "5\n"
          ]
        }
      ],
      "source": [
        "c = [5, 10, 12, 14, 16]\n",
        "print(len(c))\n"
      ]
    },
    {
      "cell_type": "code",
      "execution_count": null,
      "metadata": {
        "colab": {
          "base_uri": "https://localhost:8080/"
        },
        "id": "uwdoCOEoTSDG",
        "outputId": "2bf5a91c-e9a3-43f1-88bd-190ae79aa254"
      },
      "outputs": [
        {
          "name": "stdout",
          "output_type": "stream",
          "text": [
            "5\n",
            "16\n"
          ]
        }
      ],
      "source": [
        "c = [5, 10, 12, 14, 16]\n",
        "print(min(c))\n",
        "print(max(c))"
      ]
    },
    {
      "cell_type": "code",
      "execution_count": null,
      "metadata": {
        "colab": {
          "base_uri": "https://localhost:8080/"
        },
        "id": "uSqhhLjyFhwW",
        "outputId": "ef85f92c-5cbb-42a3-aa12-ad4e90d04a19"
      },
      "outputs": [
        {
          "name": "stdout",
          "output_type": "stream",
          "text": [
            "o\n",
            "world\n",
            "dlrow olleh\n"
          ]
        }
      ],
      "source": [
        "s = 'hello world'\n",
        "print(s[4])\n",
        "print(s[6:11])\n",
        "print(s[::-1])"
      ]
    },
    {
      "cell_type": "code",
      "execution_count": null,
      "metadata": {
        "colab": {
          "base_uri": "https://localhost:8080/"
        },
        "id": "uSV0FwdhIUB5",
        "outputId": "fa5d9508-c139-4f28-f5ba-9925794cf615"
      },
      "outputs": [
        {
          "name": "stdout",
          "output_type": "stream",
          "text": [
            "Be a learner always\n",
            "BE A LEARNER ALWAYS\n",
            "be a learner always\n",
            "BE A LEARNER ALWAYS\n",
            "1\n",
            "#####be a learner always######\n",
            "2\n",
            "True\n",
            "False\n",
            "False\n",
            "False\n",
            "False\n",
            "True\n",
            "False\n",
            "False\n",
            "be a learner always\n",
            "['be', 'a', 'learner', 'always']\n"
          ]
        }
      ],
      "source": [
        "a= \"be a learner always\"\n",
        "b = \"##123\"\n",
        "c =\"Abc123#\"\n",
        "d = \"abcd 123\"\n",
        "e = \"abcd1234\"\n",
        "f = \"-1\"\n",
        "print(a.capitalize())\n",
        "print(a.upper())\n",
        "print(a.lower())\n",
        "print(a.swapcase())\n",
        "print(a.count(\"a\",6,12))\n",
        "print(a.center(30,\"#\"))\n",
        "print(a.find(\" \"))\n",
        "print(e.isalnum()) #alphanumeric\n",
        "print (c.isalpha())\n",
        "print(f.isdigit())\n",
        "print(f.isnumeric())\n",
        "print(a.isspace())\n",
        "print(a.islower())\n",
        "print(a.isupper())\n",
        "print(a.endswith('r'))\n",
        "print(a.strip())\n",
        "print(a.split())"
      ]
    },
    {
      "cell_type": "code",
      "execution_count": null,
      "metadata": {
        "colab": {
          "background_save": true,
          "base_uri": "https://localhost:8080/"
        },
        "id": "R_-JcnUHQn9p",
        "outputId": "d98b64d6-6c40-4688-c3da-9aa21e360c6c"
      },
      "outputs": [
        {
          "ename": "SyntaxError",
          "evalue": "ignored",
          "output_type": "error",
          "traceback": [
            "\u001b[0;36m  File \u001b[0;32m\"<ipython-input-1-6fa8a8607796>\"\u001b[0;36m, line \u001b[0;32m9\u001b[0m\n\u001b[0;31m    if(mobile.isnumeric():\u001b[0m\n\u001b[0m                         ^\u001b[0m\n\u001b[0;31mSyntaxError\u001b[0m\u001b[0;31m:\u001b[0m invalid syntax\n"
          ]
        }
      ],
      "source": [
        "name1 = 'MOHAN'\n",
        "name2 = 'KUMAR'\n",
        "mobile = '9900763384'\n",
        "email = \"ghfyrh@gmail.com\"\n",
        "if(name1,name2.upper()):\n",
        "  print(name1,name2)\n",
        "else:\n",
        "  print(\"correct name\")\n",
        "if(mobile.isnumeric():\n",
        "  if mobile==1:\n",
        "  print(mobile)\n",
        "else:\n",
        "  print(\"update correct no\")\n",
        "if email.endswith(\"@gmail.com\"):\n",
        "  print(email)\n",
        "else:\n",
        "  print(\"update correct mail ID\")\n",
        "\n",
        "\n"
      ]
    },
    {
      "cell_type": "code",
      "execution_count": null,
      "metadata": {
        "colab": {
          "base_uri": "https://localhost:8080/"
        },
        "id": "HqE7TQK8X1e8",
        "outputId": "4a163a52-9a36-42e9-b1fb-4889d047d932"
      },
      "outputs": [
        {
          "name": "stdout",
          "output_type": "stream",
          "text": [
            "{1: 'apple', 2: 'ipad'}\n"
          ]
        }
      ],
      "source": [
        "d1 = {1:'apple',2:'ipad'}\n",
        "print(d1)"
      ]
    },
    {
      "cell_type": "markdown",
      "metadata": {
        "id": "WkbID4t4jemz"
      },
      "source": [
        ""
      ]
    },
    {
      "cell_type": "code",
      "execution_count": null,
      "metadata": {
        "colab": {
          "base_uri": "https://localhost:8080/"
        },
        "id": "RjL-OIC9YRYH",
        "outputId": "82703418-caf6-40d9-a3bd-658f9fe2ead5"
      },
      "outputs": [
        {
          "name": "stdout",
          "output_type": "stream",
          "text": [
            "{'name': 'kookokumaru', 'age': 27}\n"
          ]
        }
      ],
      "source": [
        "dct ={'name':'kookokumaru','age':26}\n",
        "dct[\"age\"]= 27\n",
        "print(dct)\n"
      ]
    },
    {
      "cell_type": "code",
      "execution_count": null,
      "metadata": {
        "colab": {
          "base_uri": "https://localhost:8080/"
        },
        "id": "0GAHUBFjaG8J",
        "outputId": "67a626de-afd7-4d48-9952-01c9eb3482c7"
      },
      "outputs": [
        {
          "name": "stdout",
          "output_type": "stream",
          "text": [
            "16\n"
          ]
        }
      ],
      "source": [
        "s = {1:1,2:4,3:9,4:16,5:25}\n",
        "print(s.pop(4))\n"
      ]
    },
    {
      "cell_type": "code",
      "execution_count": null,
      "metadata": {
        "colab": {
          "base_uri": "https://localhost:8080/"
        },
        "id": "vofz24cbbqse",
        "outputId": "27c70391-cab0-4297-f745-efe75d0646b9"
      },
      "outputs": [
        {
          "name": "stdout",
          "output_type": "stream",
          "text": [
            "hyanth\n",
            "999\n",
            "shhudj@gmail.com\n",
            "{'N': 'hyanth', 'M': '999', 'mail': 'shhudj@gmail.com'}\n"
          ]
        }
      ],
      "source": [
        "s= {}\n",
        "s[\"N\"]= input()\n",
        "s['M']= input()\n",
        "s['mail'] =input()\n",
        "print(s)"
      ]
    },
    {
      "cell_type": "code",
      "execution_count": null,
      "metadata": {
        "id": "PHTUBXHyc-ju"
      },
      "outputs": [],
      "source": [
        "# https://visualgo.net/en\n",
        "# https://cmps-people.ok.ubc.ca/ylucet/DS/Algorithms.html"
      ]
    },
    {
      "cell_type": "code",
      "execution_count": null,
      "metadata": {
        "colab": {
          "base_uri": "https://localhost:8080/"
        },
        "id": "usypgmpTp3X1",
        "outputId": "c551cf4b-875e-4146-eb3f-a7770bd27f0b"
      },
      "outputs": [
        {
          "name": "stdout",
          "output_type": "stream",
          "text": [
            "global\n",
            "globalglobal\n",
            "local\n",
            "globalglobal\n"
          ]
        }
      ],
      "source": [
        "x =\"global\"\n",
        "def foo():\n",
        "  global x\n",
        "  y = \"local\"\n",
        "  x=x*2\n",
        "  print(x)\n",
        "  print(y)\n",
        "print(x)\n",
        "foo()\n",
        "print(x)\n"
      ]
    },
    {
      "cell_type": "code",
      "execution_count": null,
      "metadata": {
        "colab": {
          "base_uri": "https://localhost:8080/"
        },
        "id": "NK3quM8NF0zz",
        "outputId": "a3ae3173-4fa0-4275-ae0e-80f2ce9d3841"
      },
      "outputs": [
        {
          "name": "stdout",
          "output_type": "stream",
          "text": [
            "how are you?\n"
          ]
        }
      ],
      "source": [
        "def hello():\n",
        "  print(\"how are you?\")\n",
        "hello()\n"
      ]
    },
    {
      "cell_type": "code",
      "execution_count": null,
      "metadata": {
        "colab": {
          "base_uri": "https://localhost:8080/"
        },
        "id": "09KNec9hbgcI",
        "outputId": "879d3e30-571e-4afd-e851-0723f1cf2313"
      },
      "outputs": [
        {
          "name": "stdout",
          "output_type": "stream",
          "text": [
            "value: 10\n",
            "value: 20\n"
          ]
        }
      ],
      "source": [
        "def my_fun():\n",
        "  x=10\n",
        "  print(\"value:\",x)\n",
        "x=20\n",
        "my_fun()\n",
        "print(\"value:\",x)"
      ]
    },
    {
      "cell_type": "code",
      "execution_count": null,
      "metadata": {
        "colab": {
          "base_uri": "https://localhost:8080/"
        },
        "id": "ku9s4SbedwEI",
        "outputId": "59c5e79c-c034-4de7-d831-a7c0af3857d2"
      },
      "outputs": [
        {
          "name": "stdout",
          "output_type": "stream",
          "text": [
            "xinside: global\n",
            "xoutside: global\n"
          ]
        }
      ],
      "source": [
        "x = \"global\"\n",
        "def foo():\n",
        "  print(\"xinside:\",x)\n",
        "foo()\n",
        "print(\"xoutside:\",x)"
      ]
    },
    {
      "cell_type": "code",
      "execution_count": null,
      "metadata": {
        "colab": {
          "base_uri": "https://localhost:8080/"
        },
        "id": "7N5PjQtYuUS2",
        "outputId": "01dcc4dd-6ae3-412b-925e-86aacb4cc00d"
      },
      "outputs": [
        {
          "name": "stdout",
          "output_type": "stream",
          "text": [
            "15\n"
          ]
        }
      ],
      "source": [
        "x= lambda a:a+10\n",
        "print (x(5))"
      ]
    },
    {
      "cell_type": "code",
      "execution_count": null,
      "metadata": {
        "colab": {
          "base_uri": "https://localhost:8080/"
        },
        "id": "OQr24hRzukRk",
        "outputId": "86ed5f65-e3ef-41b4-fa79-320481ccc76b"
      },
      "outputs": [
        {
          "name": "stdout",
          "output_type": "stream",
          "text": [
            "10\n"
          ]
        }
      ],
      "source": [
        "x= lambda a,b:a+b\n",
        "print(x(5,5))"
      ]
    },
    {
      "cell_type": "code",
      "execution_count": null,
      "metadata": {
        "colab": {
          "base_uri": "https://localhost:8080/"
        },
        "id": "dTzko15VuyEG",
        "outputId": "02bf212e-1d99-4f2c-928c-690ca20ac682"
      },
      "outputs": [
        {
          "name": "stdout",
          "output_type": "stream",
          "text": [
            "15\n"
          ]
        }
      ],
      "source": [
        "x = lambda a,b,c:a+b+c\n",
        "print(x(5,5,5))"
      ]
    },
    {
      "cell_type": "code",
      "execution_count": null,
      "metadata": {
        "colab": {
          "base_uri": "https://localhost:8080/",
          "height": 130
        },
        "id": "Q7jFJ7j9wGaA",
        "outputId": "a3902a77-d8d3-4864-cdce-309f62efe835"
      },
      "outputs": [
        {
          "ename": "SyntaxError",
          "evalue": "ignored",
          "output_type": "error",
          "traceback": [
            "\u001b[0;36m  File \u001b[0;32m\"<ipython-input-12-9775ee241940>\"\u001b[0;36m, line \u001b[0;32m1\u001b[0m\n\u001b[0;31m    x = lambda a,a+1 int(input())\u001b[0m\n\u001b[0m                  ^\u001b[0m\n\u001b[0;31mSyntaxError\u001b[0m\u001b[0;31m:\u001b[0m invalid syntax\n"
          ]
        }
      ],
      "source": [
        "x = lambda a,a+1 int(input())\n",
        "if x % 2==0:\n",
        "  print(\"even\")\n",
        "else:\n",
        "  print (\"odd\")\n"
      ]
    }
  ],
  "metadata": {
    "colab": {
      "collapsed_sections": [],
      "name": "Data science ",
      "provenance": [],
      "authorship_tag": "ABX9TyOxRhVpH3dUhESaOpYBk9I+",
      "include_colab_link": true
    },
    "kernelspec": {
      "display_name": "Python 3",
      "name": "python3"
    },
    "language_info": {
      "name": "python"
    }
  },
  "nbformat": 4,
  "nbformat_minor": 0
}